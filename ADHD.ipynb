{
 "cells": [
  {
   "cell_type": "code",
   "execution_count": 1,
   "id": "200a0b9a",
   "metadata": {},
   "outputs": [
    {
     "data": {
      "application/vnd.jupyter.widget-view+json": {
       "model_id": "e65fbb0c6c7d493aaf68392cfe20c9f3",
       "version_major": 2,
       "version_minor": 0
      },
      "text/plain": [
       "HBox(children=(VBox(children=(Image(value=b'\\xff\\xd8\\xff\\xe0\\x00\\x10JFIF\\x00\\x01\\x01\\x00\\x00\\x01\\x00\\x01\\x00\\x…"
      ]
     },
     "metadata": {},
     "output_type": "display_data"
    }
   ],
   "source": [
    "import warnings\n",
    "warnings.filterwarnings('ignore')\n",
    "import ipywidgets as widgets\n",
    "from IPython.display import display, clear_output\n",
    "\n",
    "# Load the image\n",
    "file = open(\"C:/Users/habib/OneDrive/Desktop/Umair project/Photo 1.jpeg\",\"rb\")\n",
    "image = file.read()\n",
    "file.close()\n",
    "\n",
    "# Display the image with a label\n",
    "image_headline = widgets.Image(value=image, format='jpg', width=300)\n",
    "label_headline = widgets.Label(value='', style={'description_width': 'initial'})\n",
    "vbox_headline = widgets.VBox([image_headline, label_headline])\n",
    "\n",
    "# ToggleButtons for each question\n",
    "toggle_q1 = widgets.ToggleButtons(options=['yes', 'no'])\n",
    "toggle_q2 = widgets.ToggleButtons(options=['yes', 'no'])\n",
    "toggle_q3 = widgets.ToggleButtons(options=['yes', 'no'])\n",
    "toggle_q4 = widgets.ToggleButtons(options=['yes', 'no'])\n",
    "\n",
    "toggle_q5 = widgets.ToggleButtons(options=['yes', 'no'])\n",
    "toggle_q6 = widgets.ToggleButtons(options=['yes', 'no'])\n",
    "toggle_q7 = widgets.ToggleButtons(options=['yes', 'no'])\n",
    "toggle_q8 = widgets.ToggleButtons(options=['yes', 'no'])\n",
    "\n",
    "# Button to send the message\n",
    "button_send = widgets.Button(description='Send', tooltip='send', style={'description_width': 'initial'})\n",
    "output = widgets.Output()\n",
    "\n",
    "def on_button_clicked(event):\n",
    "    with output:\n",
    "        clear_output()\n",
    "        yes_count_depression = sum([toggle_q1.value == 'yes', toggle_q2.value == 'yes', toggle_q3.value == 'yes', toggle_q4.value == 'yes'])\n",
    "        yes_count_adhd = sum([toggle_q5.value == 'yes', toggle_q6.value == 'yes', toggle_q7.value == 'yes', toggle_q8.value == 'yes'])\n",
    "        \n",
    "        if yes_count_depression >= 3:\n",
    "            print(\"You have depression\")\n",
    "        else:\n",
    "            print(\"You don't have depression\")\n",
    "        \n",
    "        if yes_count_adhd >= 5:\n",
    "            print(\"You have ADHD\")\n",
    "        else:\n",
    "            print(\"You don't have ADHD\")\n",
    "        \n",
    "        print(\"Sent message\")\n",
    "        print(f\"Are you feeling sad? {toggle_q1.value}.\")\n",
    "        print(f\"Can you not concentrate? {toggle_q2.value}.\")\n",
    "        print(f\"Do you feel dizzy? {toggle_q3.value}.\")\n",
    "        print(f\"Do you not feel like talking to anyone? {toggle_q4.value}.\")\n",
    "        print(f\"Do you have trouble staying focused? {toggle_q5.value}.\")\n",
    "        print(f\"Are you easily distracted? {toggle_q6.value}.\")\n",
    "        print(f\"Do you have difficulty organizing tasks? {toggle_q7.value}.\")\n",
    "        print(f\"Do you frequently forget things? {toggle_q8.value}.\")\n",
    "\n",
    "button_send.on_click(on_button_clicked)\n",
    "\n",
    "# HTML text for questions\n",
    "text0 = widgets.HTML(value=\"<h1>Can you not concentrate?</h1>\", \n",
    "                     style={'font_size': '20px', 'font_family': 'Arial'})\n",
    "text1 = widgets.HTML(value=\"<h2>Are you feeling sad?</h2>\", \n",
    "                     style={'font_size': '20px', 'font_family': 'Arial'})\n",
    "text2 = widgets.HTML(value=\"<h3>Do you feel dizzy?</h3>\", \n",
    "                     style={'font_size': '20px', 'font_family': 'Arial'})\n",
    "text3 = widgets.HTML(value=\"<h4>Do you not feel like talking to anyone?</h4>\", \n",
    "                     style={'font_size': '20px', 'font_family': 'Arial'})\n",
    "\n",
    "text4 = widgets.HTML(value=\"<h1>Do you have trouble staying focused?</h1>\", \n",
    "                     style={'font_size': '20px', 'font_family': 'Arial'})\n",
    "text5 = widgets.HTML(value=\"<h2>Are you easily distracted?</h2>\", \n",
    "                     style={'font_size': '20px', 'font_family': 'Arial'})\n",
    "text6 = widgets.HTML(value=\"<h3>Do you have difficulty organizing tasks?</h3>\", \n",
    "                     style={'font_size': '20px', 'font_family': 'Arial'})\n",
    "text7 = widgets.HTML(value=\"<h4>Do you frequently forget things?</h4>\", \n",
    "                     style={'font_size': '20px', 'font_family': 'Arial'})\n",
    "\n",
    "# Layout for the questions and the button\n",
    "vbox_text = widgets.VBox([\n",
    "    text0, toggle_q1, \n",
    "    text1, toggle_q2, \n",
    "    text2, toggle_q3, \n",
    "    text3, toggle_q4, \n",
    "    text4, toggle_q5, \n",
    "    text5, toggle_q6, \n",
    "    text6, toggle_q7, \n",
    "    text7, toggle_q8, \n",
    "    button_send, output\n",
    "])\n",
    "page = widgets.HBox([vbox_headline, vbox_text])\n",
    "\n",
    "# Display the page\n",
    "display(page)\n"
   ]
  },
  {
   "cell_type": "code",
   "execution_count": 2,
   "id": "72f09192",
   "metadata": {},
   "outputs": [],
   "source": [
    "!pip freeze > requirements.text"
   ]
  },
  {
   "cell_type": "code",
   "execution_count": null,
   "id": "38cbdda2",
   "metadata": {},
   "outputs": [],
   "source": []
  }
 ],
 "metadata": {
  "kernelspec": {
   "display_name": "Python 3 (ipykernel)",
   "language": "python",
   "name": "python3"
  },
  "language_info": {
   "codemirror_mode": {
    "name": "ipython",
    "version": 3
   },
   "file_extension": ".py",
   "mimetype": "text/x-python",
   "name": "python",
   "nbconvert_exporter": "python",
   "pygments_lexer": "ipython3",
   "version": "3.11.2"
  }
 },
 "nbformat": 4,
 "nbformat_minor": 5
}
